{
 "cells": [
  {
   "cell_type": "code",
   "execution_count": null,
   "id": "758c0955",
   "metadata": {},
   "outputs": [],
   "source": [
    "from scipy.stats import poisson\n",
    "import matplotlib.pyplot as plt"
   ]
  },
  {
   "cell_type": "markdown",
   "id": "7d83be82",
   "metadata": {},
   "source": [
    "### News Vendor (Poisson Distribution)"
   ]
  },
  {
   "cell_type": "code",
   "execution_count": null,
   "id": "9cd73fea",
   "metadata": {},
   "outputs": [],
   "source": [
    "mean_sales = 100\n",
    "procurement_cost = 5\n",
    "salvage_value = 3\n",
    "markup_pct = 50"
   ]
  },
  {
   "cell_type": "code",
   "execution_count": null,
   "id": "8b7445c5",
   "metadata": {},
   "outputs": [],
   "source": [
    "understock_cost = procurement_cost*(markup_pct/100)\n",
    "overstock_cost = procurement_cost - salvage_value"
   ]
  },
  {
   "cell_type": "code",
   "execution_count": null,
   "id": "6fd2770d",
   "metadata": {},
   "outputs": [],
   "source": [
    "cdf_val = understock_cost/(understock_cost+overstock_cost)"
   ]
  },
  {
   "cell_type": "code",
   "execution_count": null,
   "id": "94775e20",
   "metadata": {},
   "outputs": [],
   "source": [
    "order_quantity = poisson.ppf(cdf_val, mu=100)"
   ]
  },
  {
   "cell_type": "code",
   "execution_count": null,
   "id": "3a1861d0",
   "metadata": {},
   "outputs": [],
   "source": [
    "print(f\"Optimal order quantity={order_quantity}\")"
   ]
  },
  {
   "cell_type": "markdown",
   "id": "8d9baa55",
   "metadata": {},
   "source": [
    "#### Hand simulation"
   ]
  },
  {
   "cell_type": "code",
   "execution_count": null,
   "id": "65433da0",
   "metadata": {},
   "outputs": [],
   "source": [
    "def get_expected_cost(mu=100, order_qty=1, ce=2, cs=3):\n",
    "    total_overstock_cost = sum(ce*(order_qty-x)*poisson.pmf(x, mu=mu) for x in range(order_qty))\n",
    "    total_understock_cost = sum(cs*(x-order_qty)*poisson.pmf(x, mu=mu) for x in range(order_qty,1000))\n",
    "    return total_understock_cost + total_overstock_cost"
   ]
  },
  {
   "cell_type": "code",
   "execution_count": null,
   "id": "54ffe705",
   "metadata": {},
   "outputs": [],
   "source": [
    "cost_vector=[]\n",
    "for q in range(200):\n",
    "    cost = get_expected_cost(mu=mean_sales, order_qty=q, ce=overstock_cost, cs=understock_cost)\n",
    "    print(f\" Expected total cost for ordering {q} units = {cost}\")\n",
    "    cost_vector.append((q,cost))"
   ]
  },
  {
   "cell_type": "code",
   "execution_count": null,
   "id": "a3d6ac0b",
   "metadata": {},
   "outputs": [],
   "source": [
    "x,y = zip(*cost_vector)\n",
    "plt.scatter(x, y)\n",
    "plt.title(\"Total cost for various order quantities\")\n",
    "plt.xlabel(\"order quantity\")\n",
    "plt.ylabel(\"cost\")\n",
    "plt.show()"
   ]
  },
  {
   "cell_type": "markdown",
   "id": "968dfc13",
   "metadata": {},
   "source": [
    "### Empirical distribution"
   ]
  },
  {
   "cell_type": "code",
   "execution_count": null,
   "id": "bb8dd877",
   "metadata": {},
   "outputs": [],
   "source": [
    "## Convolution toy example"
   ]
  },
  {
   "cell_type": "code",
   "execution_count": null,
   "id": "8d28ff87",
   "metadata": {},
   "outputs": [],
   "source": [
    "import numpy as np\n",
    "np.set_printoptions(formatter={'float': '{: 0.3f}'.format})\n"
   ]
  },
  {
   "cell_type": "code",
   "execution_count": null,
   "id": "bb9a5308",
   "metadata": {},
   "outputs": [],
   "source": [
    "probs = [0.5,0.3,0.2]"
   ]
  },
  {
   "cell_type": "code",
   "execution_count": null,
   "id": "17b71446",
   "metadata": {},
   "outputs": [],
   "source": [
    "np.convolve(probs, probs)"
   ]
  },
  {
   "cell_type": "code",
   "execution_count": null,
   "id": "9e9eaa03",
   "metadata": {},
   "outputs": [],
   "source": [
    "### Our example"
   ]
  },
  {
   "cell_type": "code",
   "execution_count": null,
   "id": "7744e350",
   "metadata": {},
   "outputs": [],
   "source": [
    "probs = [0.3,0.2,0.3,0.2]"
   ]
  },
  {
   "cell_type": "code",
   "execution_count": null,
   "id": "adf96855",
   "metadata": {},
   "outputs": [],
   "source": [
    "def convolve_multiple(probs, n=5):\n",
    "    convolved = np.convolve(probs, probs)\n",
    "    if n==2:\n",
    "        return convolved\n",
    "    else:\n",
    "        for i in range(n-2):\n",
    "            convolved = np.convolve(convolved, probs)\n",
    "        return convolved"
   ]
  },
  {
   "cell_type": "code",
   "execution_count": null,
   "id": "1de2c2c7",
   "metadata": {},
   "outputs": [],
   "source": [
    "convoluted_dis=convolve_multiple(probs,7)"
   ]
  },
  {
   "cell_type": "code",
   "execution_count": null,
   "id": "0064c4f0",
   "metadata": {},
   "outputs": [],
   "source": [
    "cdf = np.cumsum(convoluted_dis)"
   ]
  },
  {
   "cell_type": "code",
   "execution_count": null,
   "id": "9c0c92cf",
   "metadata": {},
   "outputs": [],
   "source": [
    "cdf"
   ]
  },
  {
   "cell_type": "code",
   "execution_count": null,
   "id": "a601b4dc",
   "metadata": {},
   "outputs": [],
   "source": []
  }
 ],
 "metadata": {
  "kernelspec": {
   "display_name": "Python 3 (ipykernel)",
   "language": "python",
   "name": "python3"
  },
  "language_info": {
   "codemirror_mode": {
    "name": "ipython",
    "version": 3
   },
   "file_extension": ".py",
   "mimetype": "text/x-python",
   "name": "python",
   "nbconvert_exporter": "python",
   "pygments_lexer": "ipython3",
   "version": "3.9.12"
  }
 },
 "nbformat": 4,
 "nbformat_minor": 5
}
